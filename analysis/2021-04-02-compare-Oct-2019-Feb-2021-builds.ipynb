{
 "cells": [
  {
   "cell_type": "markdown",
   "id": "prostate-planning",
   "metadata": {},
   "source": [
    "# Compare strain composition of builds\n",
    "\n",
    "Compare strain names and annotations between builds from October 2019 and February 2021."
   ]
  },
  {
   "cell_type": "code",
   "execution_count": 50,
   "id": "flying-elephant",
   "metadata": {},
   "outputs": [],
   "source": [
    "import matplotlib.pyplot as plt\n",
    "import numpy as np\n",
    "import pandas as pd\n",
    "import seaborn as sns\n",
    "\n",
    "%matplotlib inline"
   ]
  },
  {
   "cell_type": "code",
   "execution_count": 74,
   "id": "another-basis",
   "metadata": {},
   "outputs": [],
   "source": [
    "sns.set_style(\"ticks\")"
   ]
  },
  {
   "cell_type": "code",
   "execution_count": 23,
   "id": "ongoing-howard",
   "metadata": {},
   "outputs": [],
   "source": [
    "early_df = pd.read_csv(\n",
    "    \"flu_builds_2019-10-25/auspice_tables/flu_seasonal_h3n2_ha_21y_global.tsv\",\n",
    "    sep=\"\\t\",\n",
    "    parse_dates=[\"date\"]\n",
    ")"
   ]
  },
  {
   "cell_type": "code",
   "execution_count": 24,
   "id": "peaceful-croatia",
   "metadata": {},
   "outputs": [],
   "source": [
    "late_df = pd.read_csv(\n",
    "    \"auspice_tables/flu_seasonal_h3n2_ha_21y_global.tsv\",\n",
    "    sep=\"\\t\",\n",
    "    parse_dates=[\"date\"]\n",
    ")"
   ]
  },
  {
   "cell_type": "code",
   "execution_count": 25,
   "id": "virtual-modem",
   "metadata": {},
   "outputs": [
    {
     "data": {
      "text/plain": [
       "(10848, 19)"
      ]
     },
     "execution_count": 25,
     "metadata": {},
     "output_type": "execute_result"
    }
   ],
   "source": [
    "early_df.shape"
   ]
  },
  {
   "cell_type": "code",
   "execution_count": 26,
   "id": "champion-bloom",
   "metadata": {},
   "outputs": [
    {
     "data": {
      "text/plain": [
       "(10979, 25)"
      ]
     },
     "execution_count": 26,
     "metadata": {},
     "output_type": "execute_result"
    }
   ],
   "source": [
    "late_df.shape"
   ]
  },
  {
   "cell_type": "code",
   "execution_count": 12,
   "id": "subjective-basketball",
   "metadata": {},
   "outputs": [
    {
     "data": {
      "text/html": [
       "<div>\n",
       "<style scoped>\n",
       "    .dataframe tbody tr th:only-of-type {\n",
       "        vertical-align: middle;\n",
       "    }\n",
       "\n",
       "    .dataframe tbody tr th {\n",
       "        vertical-align: top;\n",
       "    }\n",
       "\n",
       "    .dataframe thead th {\n",
       "        text-align: right;\n",
       "    }\n",
       "</style>\n",
       "<table border=\"1\" class=\"dataframe\">\n",
       "  <thead>\n",
       "    <tr style=\"text-align: right;\">\n",
       "      <th></th>\n",
       "      <th>name</th>\n",
       "      <th>date</th>\n",
       "      <th>num_date</th>\n",
       "      <th>ep</th>\n",
       "      <th>ep_seasonal</th>\n",
       "      <th>ne</th>\n",
       "      <th>ne_seasonal</th>\n",
       "      <th>rb</th>\n",
       "      <th>rb_seasonal</th>\n",
       "      <th>stem</th>\n",
       "      <th>stem_seasonal</th>\n",
       "      <th>cTiter</th>\n",
       "      <th>cTiterSub</th>\n",
       "      <th>cTiterSub_seasonal</th>\n",
       "      <th>region</th>\n",
       "      <th>country</th>\n",
       "      <th>SigPep</th>\n",
       "      <th>HA1</th>\n",
       "      <th>HA2</th>\n",
       "    </tr>\n",
       "  </thead>\n",
       "  <tbody>\n",
       "    <tr>\n",
       "      <th>0</th>\n",
       "      <td>A/Guangzhou/98/2000</td>\n",
       "      <td>2000-02-13</td>\n",
       "      <td>2000.12</td>\n",
       "      <td>1</td>\n",
       "      <td>1</td>\n",
       "      <td>0</td>\n",
       "      <td>0</td>\n",
       "      <td>0</td>\n",
       "      <td>0</td>\n",
       "      <td>0</td>\n",
       "      <td>0</td>\n",
       "      <td>0.00</td>\n",
       "      <td>0.0</td>\n",
       "      <td>0.30</td>\n",
       "      <td>china</td>\n",
       "      <td>china</td>\n",
       "      <td>MKTIIALSYILCLVFA</td>\n",
       "      <td>QKLPGNDNSTATLCLGHHAVPNGTLVKTITNDQIEVTNATELVQSS...</td>\n",
       "      <td>GIFGAIAGFIENGWEGMVDGWYGFRHQNSEGTGQAADLKSTQAAIN...</td>\n",
       "    </tr>\n",
       "    <tr>\n",
       "      <th>1</th>\n",
       "      <td>A/Dakar/26/2001</td>\n",
       "      <td>2001-06-12</td>\n",
       "      <td>2001.45</td>\n",
       "      <td>5</td>\n",
       "      <td>5</td>\n",
       "      <td>2</td>\n",
       "      <td>2</td>\n",
       "      <td>0</td>\n",
       "      <td>0</td>\n",
       "      <td>3</td>\n",
       "      <td>3</td>\n",
       "      <td>0.07</td>\n",
       "      <td>0.0</td>\n",
       "      <td>0.60</td>\n",
       "      <td>africa</td>\n",
       "      <td>senegal</td>\n",
       "      <td>MKTIIALSYILCLVFA</td>\n",
       "      <td>QKLPGNDNSKATLCLGHHAVPNGTLVKTITNDQIEVTNATELVQNS...</td>\n",
       "      <td>GIFGAIAGFIENGWEGMVDGWYGFRHQNSEGTGQAADLKSTQAAIN...</td>\n",
       "    </tr>\n",
       "    <tr>\n",
       "      <th>2</th>\n",
       "      <td>A/Daegu/58/2001</td>\n",
       "      <td>2001-03-06</td>\n",
       "      <td>2001.18</td>\n",
       "      <td>1</td>\n",
       "      <td>1</td>\n",
       "      <td>2</td>\n",
       "      <td>1</td>\n",
       "      <td>0</td>\n",
       "      <td>0</td>\n",
       "      <td>1</td>\n",
       "      <td>1</td>\n",
       "      <td>0.07</td>\n",
       "      <td>0.0</td>\n",
       "      <td>0.09</td>\n",
       "      <td>japan_korea</td>\n",
       "      <td>south_korea</td>\n",
       "      <td>MKTIIALSYILCLVFA</td>\n",
       "      <td>QKLPGNDNSTATLCLGHHAVPNGTLVKTITNDQIEVTNATELVQSS...</td>\n",
       "      <td>GIFGAIAGFIENGWEGMVDGWYGFRHQNSEGTGQAADLKSTQAAIN...</td>\n",
       "    </tr>\n",
       "    <tr>\n",
       "      <th>3</th>\n",
       "      <td>A/Malaysia/12974/1997</td>\n",
       "      <td>1997-06-23</td>\n",
       "      <td>1997.48</td>\n",
       "      <td>1</td>\n",
       "      <td>1</td>\n",
       "      <td>3</td>\n",
       "      <td>3</td>\n",
       "      <td>0</td>\n",
       "      <td>0</td>\n",
       "      <td>2</td>\n",
       "      <td>2</td>\n",
       "      <td>0.07</td>\n",
       "      <td>0.0</td>\n",
       "      <td>0.22</td>\n",
       "      <td>southeast_asia</td>\n",
       "      <td>malaysia</td>\n",
       "      <td>MKTIIALSYILCLIFA</td>\n",
       "      <td>QKLPGNDNSTATLCLGHHAVPNGTLVKTITNDQIEVTNATELVQSS...</td>\n",
       "      <td>GIFGAIAGFIENGWEGMVDGWYGFRHQNSEGTGQAADLKSTQAAIN...</td>\n",
       "    </tr>\n",
       "    <tr>\n",
       "      <th>4</th>\n",
       "      <td>A/Indonesia/8338/2001</td>\n",
       "      <td>2001-04-03</td>\n",
       "      <td>2001.26</td>\n",
       "      <td>4</td>\n",
       "      <td>3</td>\n",
       "      <td>2</td>\n",
       "      <td>2</td>\n",
       "      <td>0</td>\n",
       "      <td>0</td>\n",
       "      <td>3</td>\n",
       "      <td>1</td>\n",
       "      <td>0.07</td>\n",
       "      <td>0.0</td>\n",
       "      <td>0.00</td>\n",
       "      <td>southeast_asia</td>\n",
       "      <td>indonesia</td>\n",
       "      <td>MKTIIALSYILCLVFA</td>\n",
       "      <td>QKLPGNDNSTATLCLGHHAVPNGTLVKTITNDQIEVTNATELVQSS...</td>\n",
       "      <td>GIFGAIAGFRENGWEGMVDGWYGFRHQNSEGTGQAADLKSTQAAIN...</td>\n",
       "    </tr>\n",
       "  </tbody>\n",
       "</table>\n",
       "</div>"
      ],
      "text/plain": [
       "                    name        date  num_date  ep  ep_seasonal  ne  \\\n",
       "0    A/Guangzhou/98/2000  2000-02-13   2000.12   1            1   0   \n",
       "1        A/Dakar/26/2001  2001-06-12   2001.45   5            5   2   \n",
       "2        A/Daegu/58/2001  2001-03-06   2001.18   1            1   2   \n",
       "3  A/Malaysia/12974/1997  1997-06-23   1997.48   1            1   3   \n",
       "4  A/Indonesia/8338/2001  2001-04-03   2001.26   4            3   2   \n",
       "\n",
       "   ne_seasonal  rb  rb_seasonal  stem  stem_seasonal  cTiter  cTiterSub  \\\n",
       "0            0   0            0     0              0    0.00        0.0   \n",
       "1            2   0            0     3              3    0.07        0.0   \n",
       "2            1   0            0     1              1    0.07        0.0   \n",
       "3            3   0            0     2              2    0.07        0.0   \n",
       "4            2   0            0     3              1    0.07        0.0   \n",
       "\n",
       "   cTiterSub_seasonal          region      country            SigPep  \\\n",
       "0                0.30           china        china  MKTIIALSYILCLVFA   \n",
       "1                0.60          africa      senegal  MKTIIALSYILCLVFA   \n",
       "2                0.09     japan_korea  south_korea  MKTIIALSYILCLVFA   \n",
       "3                0.22  southeast_asia     malaysia  MKTIIALSYILCLIFA   \n",
       "4                0.00  southeast_asia    indonesia  MKTIIALSYILCLVFA   \n",
       "\n",
       "                                                 HA1  \\\n",
       "0  QKLPGNDNSTATLCLGHHAVPNGTLVKTITNDQIEVTNATELVQSS...   \n",
       "1  QKLPGNDNSKATLCLGHHAVPNGTLVKTITNDQIEVTNATELVQNS...   \n",
       "2  QKLPGNDNSTATLCLGHHAVPNGTLVKTITNDQIEVTNATELVQSS...   \n",
       "3  QKLPGNDNSTATLCLGHHAVPNGTLVKTITNDQIEVTNATELVQSS...   \n",
       "4  QKLPGNDNSTATLCLGHHAVPNGTLVKTITNDQIEVTNATELVQSS...   \n",
       "\n",
       "                                                 HA2  \n",
       "0  GIFGAIAGFIENGWEGMVDGWYGFRHQNSEGTGQAADLKSTQAAIN...  \n",
       "1  GIFGAIAGFIENGWEGMVDGWYGFRHQNSEGTGQAADLKSTQAAIN...  \n",
       "2  GIFGAIAGFIENGWEGMVDGWYGFRHQNSEGTGQAADLKSTQAAIN...  \n",
       "3  GIFGAIAGFIENGWEGMVDGWYGFRHQNSEGTGQAADLKSTQAAIN...  \n",
       "4  GIFGAIAGFRENGWEGMVDGWYGFRHQNSEGTGQAADLKSTQAAIN...  "
      ]
     },
     "execution_count": 12,
     "metadata": {},
     "output_type": "execute_result"
    }
   ],
   "source": [
    "early_df.head()"
   ]
  },
  {
   "cell_type": "code",
   "execution_count": 13,
   "id": "looking-retrieval",
   "metadata": {},
   "outputs": [
    {
     "data": {
      "text/html": [
       "<div>\n",
       "<style scoped>\n",
       "    .dataframe tbody tr th:only-of-type {\n",
       "        vertical-align: middle;\n",
       "    }\n",
       "\n",
       "    .dataframe tbody tr th {\n",
       "        vertical-align: top;\n",
       "    }\n",
       "\n",
       "    .dataframe thead th {\n",
       "        text-align: right;\n",
       "    }\n",
       "</style>\n",
       "<table border=\"1\" class=\"dataframe\">\n",
       "  <thead>\n",
       "    <tr style=\"text-align: right;\">\n",
       "      <th></th>\n",
       "      <th>name</th>\n",
       "      <th>date</th>\n",
       "      <th>num_date</th>\n",
       "      <th>ep</th>\n",
       "      <th>ep_seasonal</th>\n",
       "      <th>ne</th>\n",
       "      <th>ne_seasonal</th>\n",
       "      <th>rb</th>\n",
       "      <th>rb_seasonal</th>\n",
       "      <th>stem</th>\n",
       "      <th>...</th>\n",
       "      <th>cTiterSub_seasonal</th>\n",
       "      <th>cTiter_seasonal_vaccine_northern-hemisphere</th>\n",
       "      <th>cTiterSub_seasonal_vaccine_northern-hemisphere</th>\n",
       "      <th>region</th>\n",
       "      <th>country</th>\n",
       "      <th>SigPep</th>\n",
       "      <th>HA1</th>\n",
       "      <th>HA2</th>\n",
       "      <th>vaccine_strain_for_cTiter_seasonal_vaccine_northern-hemisphere</th>\n",
       "      <th>vaccine_strain_for_cTiterSub_seasonal_vaccine_northern-hemisphere</th>\n",
       "    </tr>\n",
       "  </thead>\n",
       "  <tbody>\n",
       "    <tr>\n",
       "      <th>0</th>\n",
       "      <td>A/NewYork/597/1997</td>\n",
       "      <td>1997-01-06</td>\n",
       "      <td>1997.02</td>\n",
       "      <td>1</td>\n",
       "      <td>1</td>\n",
       "      <td>0</td>\n",
       "      <td>0</td>\n",
       "      <td>0</td>\n",
       "      <td>0</td>\n",
       "      <td>1</td>\n",
       "      <td>...</td>\n",
       "      <td>0.0</td>\n",
       "      <td>1.76</td>\n",
       "      <td>2.96</td>\n",
       "      <td>north_america</td>\n",
       "      <td>usa</td>\n",
       "      <td>MKTIIALSYILCLVFA</td>\n",
       "      <td>QKLPGNDNSTATLCLGHHAVPNGTLVKTITNDQIEVTNATELVQGS...</td>\n",
       "      <td>GIFGAIAGFIENGWEGMVDGWYGFRHQNSEGTGQAADLKSTQAAIN...</td>\n",
       "      <td>A/Wuhan/359/1995-egg</td>\n",
       "      <td>A/Wuhan/359/1995-egg</td>\n",
       "    </tr>\n",
       "    <tr>\n",
       "      <th>1</th>\n",
       "      <td>A/Shantou/133/1998</td>\n",
       "      <td>1998-06-21</td>\n",
       "      <td>1998.47</td>\n",
       "      <td>2</td>\n",
       "      <td>2</td>\n",
       "      <td>0</td>\n",
       "      <td>0</td>\n",
       "      <td>0</td>\n",
       "      <td>0</td>\n",
       "      <td>0</td>\n",
       "      <td>...</td>\n",
       "      <td>0.0</td>\n",
       "      <td>1.76</td>\n",
       "      <td>2.96</td>\n",
       "      <td>china</td>\n",
       "      <td>china</td>\n",
       "      <td>MKTIIALSYILCLVFA</td>\n",
       "      <td>QKLPGNDNSTATLCLGHHAVPNGTLVKTITNDQIEVTNATELVQSS...</td>\n",
       "      <td>GIFGAIAGFIENGWEGMVDGWYGFRHQNSEGTGQAADLKSTQAAIN...</td>\n",
       "      <td>A/Wuhan/359/1995-egg</td>\n",
       "      <td>A/Wuhan/359/1995-egg</td>\n",
       "    </tr>\n",
       "    <tr>\n",
       "      <th>2</th>\n",
       "      <td>A/Beijing/65/1997</td>\n",
       "      <td>1997-01-15</td>\n",
       "      <td>1997.04</td>\n",
       "      <td>1</td>\n",
       "      <td>1</td>\n",
       "      <td>0</td>\n",
       "      <td>0</td>\n",
       "      <td>0</td>\n",
       "      <td>0</td>\n",
       "      <td>0</td>\n",
       "      <td>...</td>\n",
       "      <td>0.0</td>\n",
       "      <td>1.76</td>\n",
       "      <td>2.96</td>\n",
       "      <td>china</td>\n",
       "      <td>china</td>\n",
       "      <td>MKTIIALSYILCLVFA</td>\n",
       "      <td>QKLPGNDNSTATLCLGHHAVPNGTLVKTITNDQIEVTNATELVQSS...</td>\n",
       "      <td>GIFGAIAGFIENGWEGMVDGWYGFRHQNSEGTGQAADLKSTQAAIN...</td>\n",
       "      <td>A/Wuhan/359/1995-egg</td>\n",
       "      <td>A/Wuhan/359/1995-egg</td>\n",
       "    </tr>\n",
       "    <tr>\n",
       "      <th>3</th>\n",
       "      <td>A/Harbin/1/1997</td>\n",
       "      <td>1997-01-07</td>\n",
       "      <td>1997.02</td>\n",
       "      <td>2</td>\n",
       "      <td>2</td>\n",
       "      <td>0</td>\n",
       "      <td>0</td>\n",
       "      <td>0</td>\n",
       "      <td>0</td>\n",
       "      <td>0</td>\n",
       "      <td>...</td>\n",
       "      <td>0.0</td>\n",
       "      <td>1.76</td>\n",
       "      <td>2.74</td>\n",
       "      <td>china</td>\n",
       "      <td>china</td>\n",
       "      <td>MKTIIALSYILCLVFA</td>\n",
       "      <td>QKLPGNDNSTATLCLGHHAVPNGTLVKTITNDQIEVTNATELVQSS...</td>\n",
       "      <td>GIFGAIAGFIENGWEGMVDGWYGFRHQNSEGTGQAADLKSTQAAIN...</td>\n",
       "      <td>A/Wuhan/359/1995-egg</td>\n",
       "      <td>A/Wuhan/359/1995-egg</td>\n",
       "    </tr>\n",
       "    <tr>\n",
       "      <th>4</th>\n",
       "      <td>A/Harbin/2/1997</td>\n",
       "      <td>1997-01-06</td>\n",
       "      <td>1997.02</td>\n",
       "      <td>4</td>\n",
       "      <td>4</td>\n",
       "      <td>1</td>\n",
       "      <td>1</td>\n",
       "      <td>1</td>\n",
       "      <td>1</td>\n",
       "      <td>1</td>\n",
       "      <td>...</td>\n",
       "      <td>0.0</td>\n",
       "      <td>1.76</td>\n",
       "      <td>2.74</td>\n",
       "      <td>china</td>\n",
       "      <td>china</td>\n",
       "      <td>MKTIIALSYILCLVFA</td>\n",
       "      <td>QKLPGNDNSTATLCLGHHAVPNGTLVKTITNDQIEVTNTTELVQSS...</td>\n",
       "      <td>GIFGAIAGFIENGWEGMVDGWYGFRHQNSEGTGQAADLKSTQAAIN...</td>\n",
       "      <td>A/Wuhan/359/1995-egg</td>\n",
       "      <td>A/Wuhan/359/1995-egg</td>\n",
       "    </tr>\n",
       "  </tbody>\n",
       "</table>\n",
       "<p>5 rows × 25 columns</p>\n",
       "</div>"
      ],
      "text/plain": [
       "                 name        date  num_date  ep  ep_seasonal  ne  ne_seasonal  \\\n",
       "0  A/NewYork/597/1997  1997-01-06   1997.02   1            1   0            0   \n",
       "1  A/Shantou/133/1998  1998-06-21   1998.47   2            2   0            0   \n",
       "2   A/Beijing/65/1997  1997-01-15   1997.04   1            1   0            0   \n",
       "3     A/Harbin/1/1997  1997-01-07   1997.02   2            2   0            0   \n",
       "4     A/Harbin/2/1997  1997-01-06   1997.02   4            4   1            1   \n",
       "\n",
       "   rb  rb_seasonal  stem  ...  cTiterSub_seasonal  \\\n",
       "0   0            0     1  ...                 0.0   \n",
       "1   0            0     0  ...                 0.0   \n",
       "2   0            0     0  ...                 0.0   \n",
       "3   0            0     0  ...                 0.0   \n",
       "4   1            1     1  ...                 0.0   \n",
       "\n",
       "   cTiter_seasonal_vaccine_northern-hemisphere  \\\n",
       "0                                         1.76   \n",
       "1                                         1.76   \n",
       "2                                         1.76   \n",
       "3                                         1.76   \n",
       "4                                         1.76   \n",
       "\n",
       "   cTiterSub_seasonal_vaccine_northern-hemisphere         region  country  \\\n",
       "0                                            2.96  north_america      usa   \n",
       "1                                            2.96          china    china   \n",
       "2                                            2.96          china    china   \n",
       "3                                            2.74          china    china   \n",
       "4                                            2.74          china    china   \n",
       "\n",
       "             SigPep                                                HA1  \\\n",
       "0  MKTIIALSYILCLVFA  QKLPGNDNSTATLCLGHHAVPNGTLVKTITNDQIEVTNATELVQGS...   \n",
       "1  MKTIIALSYILCLVFA  QKLPGNDNSTATLCLGHHAVPNGTLVKTITNDQIEVTNATELVQSS...   \n",
       "2  MKTIIALSYILCLVFA  QKLPGNDNSTATLCLGHHAVPNGTLVKTITNDQIEVTNATELVQSS...   \n",
       "3  MKTIIALSYILCLVFA  QKLPGNDNSTATLCLGHHAVPNGTLVKTITNDQIEVTNATELVQSS...   \n",
       "4  MKTIIALSYILCLVFA  QKLPGNDNSTATLCLGHHAVPNGTLVKTITNDQIEVTNTTELVQSS...   \n",
       "\n",
       "                                                 HA2  \\\n",
       "0  GIFGAIAGFIENGWEGMVDGWYGFRHQNSEGTGQAADLKSTQAAIN...   \n",
       "1  GIFGAIAGFIENGWEGMVDGWYGFRHQNSEGTGQAADLKSTQAAIN...   \n",
       "2  GIFGAIAGFIENGWEGMVDGWYGFRHQNSEGTGQAADLKSTQAAIN...   \n",
       "3  GIFGAIAGFIENGWEGMVDGWYGFRHQNSEGTGQAADLKSTQAAIN...   \n",
       "4  GIFGAIAGFIENGWEGMVDGWYGFRHQNSEGTGQAADLKSTQAAIN...   \n",
       "\n",
       "  vaccine_strain_for_cTiter_seasonal_vaccine_northern-hemisphere  \\\n",
       "0                               A/Wuhan/359/1995-egg               \n",
       "1                               A/Wuhan/359/1995-egg               \n",
       "2                               A/Wuhan/359/1995-egg               \n",
       "3                               A/Wuhan/359/1995-egg               \n",
       "4                               A/Wuhan/359/1995-egg               \n",
       "\n",
       "  vaccine_strain_for_cTiterSub_seasonal_vaccine_northern-hemisphere  \n",
       "0                               A/Wuhan/359/1995-egg                 \n",
       "1                               A/Wuhan/359/1995-egg                 \n",
       "2                               A/Wuhan/359/1995-egg                 \n",
       "3                               A/Wuhan/359/1995-egg                 \n",
       "4                               A/Wuhan/359/1995-egg                 \n",
       "\n",
       "[5 rows x 25 columns]"
      ]
     },
     "execution_count": 13,
     "metadata": {},
     "output_type": "execute_result"
    }
   ],
   "source": [
    "late_df.head()"
   ]
  },
  {
   "cell_type": "code",
   "execution_count": 16,
   "id": "banned-galaxy",
   "metadata": {},
   "outputs": [],
   "source": [
    "early_strains = set(early_df[\"name\"].values)"
   ]
  },
  {
   "cell_type": "code",
   "execution_count": 17,
   "id": "attached-congress",
   "metadata": {},
   "outputs": [],
   "source": [
    "late_strains = set(late_df[\"name\"].values)"
   ]
  },
  {
   "cell_type": "code",
   "execution_count": 18,
   "id": "valuable-tutorial",
   "metadata": {},
   "outputs": [
    {
     "data": {
      "text/plain": [
       "7596"
      ]
     },
     "execution_count": 18,
     "metadata": {},
     "output_type": "execute_result"
    }
   ],
   "source": [
    "len(early_strains & late_strains)"
   ]
  },
  {
   "cell_type": "code",
   "execution_count": 19,
   "id": "executive-coalition",
   "metadata": {},
   "outputs": [
    {
     "data": {
      "text/plain": [
       "10848"
      ]
     },
     "execution_count": 19,
     "metadata": {},
     "output_type": "execute_result"
    }
   ],
   "source": [
    "len(early_strains)"
   ]
  },
  {
   "cell_type": "code",
   "execution_count": 20,
   "id": "pointed-active",
   "metadata": {},
   "outputs": [
    {
     "data": {
      "text/plain": [
       "10979"
      ]
     },
     "execution_count": 20,
     "metadata": {},
     "output_type": "execute_result"
    }
   ],
   "source": [
    "len(late_strains)"
   ]
  },
  {
   "cell_type": "code",
   "execution_count": 21,
   "id": "elder-snapshot",
   "metadata": {},
   "outputs": [
    {
     "data": {
      "text/plain": [
       "0.7002212389380531"
      ]
     },
     "execution_count": 21,
     "metadata": {},
     "output_type": "execute_result"
    }
   ],
   "source": [
    "len(early_strains & late_strains) / len(early_strains)"
   ]
  },
  {
   "cell_type": "code",
   "execution_count": 88,
   "id": "current-necessity",
   "metadata": {},
   "outputs": [],
   "source": [
    "early_strains_df = early_df.loc[:, [\"name\", \"date\", \"cTiterSub\", \"cTiter\"]].copy()"
   ]
  },
  {
   "cell_type": "code",
   "execution_count": 89,
   "id": "romantic-camel",
   "metadata": {},
   "outputs": [],
   "source": [
    "late_strains_df = late_df.loc[:, [\"name\", \"date\", \"cTiterSub\", \"cTiter\"]].copy()"
   ]
  },
  {
   "cell_type": "code",
   "execution_count": 90,
   "id": "antique-senior",
   "metadata": {},
   "outputs": [],
   "source": [
    "all_strains_df = early_strains_df.merge(\n",
    "    late_strains_df,\n",
    "    on=\"name\",\n",
    "    how=\"outer\",\n",
    "    suffixes=[\"_early\", \"_late\"],\n",
    "    indicator=True\n",
    ")"
   ]
  },
  {
   "cell_type": "code",
   "execution_count": 91,
   "id": "hybrid-vietnam",
   "metadata": {},
   "outputs": [
    {
     "data": {
      "text/html": [
       "<div>\n",
       "<style scoped>\n",
       "    .dataframe tbody tr th:only-of-type {\n",
       "        vertical-align: middle;\n",
       "    }\n",
       "\n",
       "    .dataframe tbody tr th {\n",
       "        vertical-align: top;\n",
       "    }\n",
       "\n",
       "    .dataframe thead th {\n",
       "        text-align: right;\n",
       "    }\n",
       "</style>\n",
       "<table border=\"1\" class=\"dataframe\">\n",
       "  <thead>\n",
       "    <tr style=\"text-align: right;\">\n",
       "      <th></th>\n",
       "      <th>name</th>\n",
       "      <th>date_early</th>\n",
       "      <th>cTiterSub_early</th>\n",
       "      <th>cTiter_early</th>\n",
       "      <th>date_late</th>\n",
       "      <th>cTiterSub_late</th>\n",
       "      <th>cTiter_late</th>\n",
       "      <th>_merge</th>\n",
       "    </tr>\n",
       "  </thead>\n",
       "  <tbody>\n",
       "    <tr>\n",
       "      <th>0</th>\n",
       "      <td>A/Guangzhou/98/2000</td>\n",
       "      <td>2000-02-13</td>\n",
       "      <td>0.0</td>\n",
       "      <td>0.00</td>\n",
       "      <td>2000-02-13</td>\n",
       "      <td>2.77</td>\n",
       "      <td>2.28</td>\n",
       "      <td>both</td>\n",
       "    </tr>\n",
       "    <tr>\n",
       "      <th>1</th>\n",
       "      <td>A/Dakar/26/2001</td>\n",
       "      <td>2001-06-12</td>\n",
       "      <td>0.0</td>\n",
       "      <td>0.07</td>\n",
       "      <td>2001-06-12</td>\n",
       "      <td>2.99</td>\n",
       "      <td>2.34</td>\n",
       "      <td>both</td>\n",
       "    </tr>\n",
       "    <tr>\n",
       "      <th>2</th>\n",
       "      <td>A/Daegu/58/2001</td>\n",
       "      <td>2001-03-06</td>\n",
       "      <td>0.0</td>\n",
       "      <td>0.07</td>\n",
       "      <td>2001-03-06</td>\n",
       "      <td>2.77</td>\n",
       "      <td>2.34</td>\n",
       "      <td>both</td>\n",
       "    </tr>\n",
       "    <tr>\n",
       "      <th>3</th>\n",
       "      <td>A/Malaysia/12974/1997</td>\n",
       "      <td>1997-06-23</td>\n",
       "      <td>0.0</td>\n",
       "      <td>0.07</td>\n",
       "      <td>1997-06-24</td>\n",
       "      <td>2.77</td>\n",
       "      <td>2.27</td>\n",
       "      <td>both</td>\n",
       "    </tr>\n",
       "    <tr>\n",
       "      <th>4</th>\n",
       "      <td>A/Indonesia/8338/2001</td>\n",
       "      <td>2001-04-03</td>\n",
       "      <td>0.0</td>\n",
       "      <td>0.07</td>\n",
       "      <td>2001-04-04</td>\n",
       "      <td>2.77</td>\n",
       "      <td>2.27</td>\n",
       "      <td>both</td>\n",
       "    </tr>\n",
       "  </tbody>\n",
       "</table>\n",
       "</div>"
      ],
      "text/plain": [
       "                    name date_early  cTiterSub_early  cTiter_early  date_late  \\\n",
       "0    A/Guangzhou/98/2000 2000-02-13              0.0          0.00 2000-02-13   \n",
       "1        A/Dakar/26/2001 2001-06-12              0.0          0.07 2001-06-12   \n",
       "2        A/Daegu/58/2001 2001-03-06              0.0          0.07 2001-03-06   \n",
       "3  A/Malaysia/12974/1997 1997-06-23              0.0          0.07 1997-06-24   \n",
       "4  A/Indonesia/8338/2001 2001-04-03              0.0          0.07 2001-04-04   \n",
       "\n",
       "   cTiterSub_late  cTiter_late _merge  \n",
       "0            2.77         2.28   both  \n",
       "1            2.99         2.34   both  \n",
       "2            2.77         2.34   both  \n",
       "3            2.77         2.27   both  \n",
       "4            2.77         2.27   both  "
      ]
     },
     "execution_count": 91,
     "metadata": {},
     "output_type": "execute_result"
    }
   ],
   "source": [
    "all_strains_df.head()"
   ]
  },
  {
   "cell_type": "code",
   "execution_count": 92,
   "id": "provincial-scout",
   "metadata": {},
   "outputs": [
    {
     "data": {
      "text/html": [
       "<div>\n",
       "<style scoped>\n",
       "    .dataframe tbody tr th:only-of-type {\n",
       "        vertical-align: middle;\n",
       "    }\n",
       "\n",
       "    .dataframe tbody tr th {\n",
       "        vertical-align: top;\n",
       "    }\n",
       "\n",
       "    .dataframe thead th {\n",
       "        text-align: right;\n",
       "    }\n",
       "</style>\n",
       "<table border=\"1\" class=\"dataframe\">\n",
       "  <thead>\n",
       "    <tr style=\"text-align: right;\">\n",
       "      <th></th>\n",
       "      <th>name</th>\n",
       "      <th>date_early</th>\n",
       "      <th>cTiterSub_early</th>\n",
       "      <th>cTiter_early</th>\n",
       "      <th>date_late</th>\n",
       "      <th>cTiterSub_late</th>\n",
       "      <th>cTiter_late</th>\n",
       "      <th>_merge</th>\n",
       "    </tr>\n",
       "  </thead>\n",
       "  <tbody>\n",
       "    <tr>\n",
       "      <th>14226</th>\n",
       "      <td>A/BurkinaFaso/1295/2019</td>\n",
       "      <td>NaT</td>\n",
       "      <td>NaN</td>\n",
       "      <td>NaN</td>\n",
       "      <td>2019-08-29</td>\n",
       "      <td>11.09</td>\n",
       "      <td>11.58</td>\n",
       "      <td>right_only</td>\n",
       "    </tr>\n",
       "    <tr>\n",
       "      <th>14227</th>\n",
       "      <td>A/Nigeria/3952/2019</td>\n",
       "      <td>NaT</td>\n",
       "      <td>NaN</td>\n",
       "      <td>NaN</td>\n",
       "      <td>2019-06-27</td>\n",
       "      <td>11.09</td>\n",
       "      <td>11.58</td>\n",
       "      <td>right_only</td>\n",
       "    </tr>\n",
       "    <tr>\n",
       "      <th>14228</th>\n",
       "      <td>A/CoteDIvoire/1705/2019</td>\n",
       "      <td>NaT</td>\n",
       "      <td>NaN</td>\n",
       "      <td>NaN</td>\n",
       "      <td>2019-08-23</td>\n",
       "      <td>11.17</td>\n",
       "      <td>11.58</td>\n",
       "      <td>right_only</td>\n",
       "    </tr>\n",
       "    <tr>\n",
       "      <th>14229</th>\n",
       "      <td>A/BurkinaFaso/2612/2019</td>\n",
       "      <td>NaT</td>\n",
       "      <td>NaN</td>\n",
       "      <td>NaN</td>\n",
       "      <td>2019-09-12</td>\n",
       "      <td>11.09</td>\n",
       "      <td>11.58</td>\n",
       "      <td>right_only</td>\n",
       "    </tr>\n",
       "    <tr>\n",
       "      <th>14230</th>\n",
       "      <td>A/BurkinaFaso/1298/2019</td>\n",
       "      <td>NaT</td>\n",
       "      <td>NaN</td>\n",
       "      <td>NaN</td>\n",
       "      <td>2019-09-10</td>\n",
       "      <td>11.09</td>\n",
       "      <td>11.58</td>\n",
       "      <td>right_only</td>\n",
       "    </tr>\n",
       "  </tbody>\n",
       "</table>\n",
       "</div>"
      ],
      "text/plain": [
       "                          name date_early  cTiterSub_early  cTiter_early  \\\n",
       "14226  A/BurkinaFaso/1295/2019        NaT              NaN           NaN   \n",
       "14227      A/Nigeria/3952/2019        NaT              NaN           NaN   \n",
       "14228  A/CoteDIvoire/1705/2019        NaT              NaN           NaN   \n",
       "14229  A/BurkinaFaso/2612/2019        NaT              NaN           NaN   \n",
       "14230  A/BurkinaFaso/1298/2019        NaT              NaN           NaN   \n",
       "\n",
       "       date_late  cTiterSub_late  cTiter_late      _merge  \n",
       "14226 2019-08-29           11.09        11.58  right_only  \n",
       "14227 2019-06-27           11.09        11.58  right_only  \n",
       "14228 2019-08-23           11.17        11.58  right_only  \n",
       "14229 2019-09-12           11.09        11.58  right_only  \n",
       "14230 2019-09-10           11.09        11.58  right_only  "
      ]
     },
     "execution_count": 92,
     "metadata": {},
     "output_type": "execute_result"
    }
   ],
   "source": [
    "all_strains_df.tail()"
   ]
  },
  {
   "cell_type": "code",
   "execution_count": 93,
   "id": "supposed-extra",
   "metadata": {},
   "outputs": [
    {
     "data": {
      "text/plain": [
       "both          7596\n",
       "right_only    3383\n",
       "left_only     3252\n",
       "Name: _merge, dtype: int64"
      ]
     },
     "execution_count": 93,
     "metadata": {},
     "output_type": "execute_result"
    }
   ],
   "source": [
    "all_strains_df[\"_merge\"].value_counts()"
   ]
  },
  {
   "cell_type": "code",
   "execution_count": 94,
   "id": "documented-crawford",
   "metadata": {},
   "outputs": [],
   "source": [
    "bins = pd.date_range(\"1994-01-01\", \"2020-01-01\", freq=\"YS\")"
   ]
  },
  {
   "cell_type": "code",
   "execution_count": 95,
   "id": "temporal-priority",
   "metadata": {},
   "outputs": [
    {
     "data": {
      "text/plain": [
       "DatetimeIndex(['1994-01-01', '1995-01-01', '1996-01-01', '1997-01-01',\n",
       "               '1998-01-01', '1999-01-01', '2000-01-01', '2001-01-01',\n",
       "               '2002-01-01', '2003-01-01', '2004-01-01', '2005-01-01',\n",
       "               '2006-01-01', '2007-01-01', '2008-01-01', '2009-01-01',\n",
       "               '2010-01-01', '2011-01-01', '2012-01-01', '2013-01-01',\n",
       "               '2014-01-01', '2015-01-01', '2016-01-01', '2017-01-01',\n",
       "               '2018-01-01', '2019-01-01', '2020-01-01'],\n",
       "              dtype='datetime64[ns]', freq='AS-JAN')"
      ]
     },
     "execution_count": 95,
     "metadata": {},
     "output_type": "execute_result"
    }
   ],
   "source": [
    "bins"
   ]
  },
  {
   "cell_type": "code",
   "execution_count": 96,
   "id": "continent-assets",
   "metadata": {},
   "outputs": [
    {
     "data": {
      "image/png": "[encoded data removed]",
      "text/plain": [
       "<Figure size 1600x800 with 1 Axes>"
      ]
     },
     "metadata": {},
     "output_type": "display_data"
    }
   ],
   "source": [
    "fig, ax = plt.subplots(1, 1, figsize=(8, 4), dpi=200)\n",
    "ax.hist(\n",
    "    [\n",
    "        all_strains_df.query(\"_merge == 'left_only'\")[\"date_early\"],\n",
    "        all_strains_df.query(\"_merge == 'right_only'\")[\"date_late\"],\n",
    "        all_strains_df.query(\"_merge == 'both'\")[\"date_early\"],\n",
    "    ],\n",
    "    label=[\"early only\", \"late only\", \"shared\"],\n",
    "    bins=bins\n",
    ")\n",
    "\n",
    "ax.set_xlabel(\"Date\")\n",
    "ax.set_ylabel(\"Number of strains\")\n",
    "\n",
    "ax.legend(frameon=False)\n",
    "sns.despine()"
   ]
  },
  {
   "cell_type": "code",
   "execution_count": 97,
   "id": "vanilla-synthetic",
   "metadata": {},
   "outputs": [
    {
     "data": {
      "image/png": "[encoded data removed]",
      "text/plain": [
       "<Figure size 1600x800 with 1 Axes>"
      ]
     },
     "metadata": {},
     "output_type": "display_data"
    }
   ],
   "source": [
    "fig, ax = plt.subplots(1, 1, figsize=(8, 4), dpi=200)\n",
    "ax.hist(\n",
    "    [\n",
    "        all_strains_df.query(\"_merge == 'left_only'\")[\"cTiterSub_early\"],\n",
    "        all_strains_df.query(\"_merge == 'right_only'\")[\"cTiterSub_late\"],\n",
    "        all_strains_df.query(\"_merge == 'both'\")[\"cTiterSub_early\"],\n",
    "    ],\n",
    "    label=[\"early only\", \"late only\", \"shared\"]\n",
    ")\n",
    "\n",
    "ax.set_xlabel(\"titer model (sub)\")\n",
    "ax.set_ylabel(\"Number of strains\")\n",
    "\n",
    "ax.legend(frameon=False)\n",
    "sns.despine()"
   ]
  },
  {
   "cell_type": "code",
   "execution_count": 98,
   "id": "swedish-maker",
   "metadata": {},
   "outputs": [
    {
     "data": {
      "image/png": "[encoded data removed]",
      "text/plain": [
       "<Figure size 1600x800 with 1 Axes>"
      ]
     },
     "metadata": {},
     "output_type": "display_data"
    }
   ],
   "source": [
    "fig, ax = plt.subplots(1, 1, figsize=(8, 4), dpi=200)\n",
    "ax.hist(\n",
    "    [\n",
    "        all_strains_df.query(\"_merge == 'left_only'\")[\"cTiter_early\"],\n",
    "        all_strains_df.query(\"_merge == 'right_only'\")[\"cTiter_late\"],\n",
    "        all_strains_df.query(\"_merge == 'both'\")[\"cTiter_early\"],\n",
    "    ],\n",
    "    label=[\"early only\", \"late only\", \"shared\"]\n",
    ")\n",
    "\n",
    "ax.set_xlabel(\"titer model (tree)\")\n",
    "ax.set_ylabel(\"Number of strains\")\n",
    "\n",
    "ax.legend(frameon=False)\n",
    "sns.despine()"
   ]
  },
  {
   "cell_type": "code",
   "execution_count": 99,
   "id": "junior-respondent",
   "metadata": {},
   "outputs": [],
   "source": [
    "import random"
   ]
  },
  {
   "cell_type": "code",
   "execution_count": 101,
   "id": "subtle-portland",
   "metadata": {},
   "outputs": [
    {
     "data": {
      "text/plain": [
       "0.4919412954676594"
      ]
     },
     "execution_count": 101,
     "metadata": {},
     "output_type": "execute_result"
    }
   ],
   "source": [
    "np.random.random()"
   ]
  },
  {
   "cell_type": "code",
   "execution_count": null,
   "id": "stock-array",
   "metadata": {},
   "outputs": [],
   "source": []
  }
 ],
 "metadata": {
  "kernelspec": {
   "display_name": "Python 3",
   "language": "python",
   "name": "python3"
  },
  "language_info": {
   "codemirror_mode": {
    "name": "ipython",
    "version": 3
   },
   "file_extension": ".py",
   "mimetype": "text/x-python",
   "name": "python",
   "nbconvert_exporter": "python",
   "pygments_lexer": "ipython3",
   "version": "3.8.8"
  }
 },
 "nbformat": 4,
 "nbformat_minor": 5
}
